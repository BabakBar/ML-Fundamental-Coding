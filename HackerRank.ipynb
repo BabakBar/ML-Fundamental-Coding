{
 "cells": [
  {
   "cell_type": "markdown",
   "metadata": {},
   "source": [
    "1- Plus Minus Problem HackerRank#1\n",
    "Given an array of integers, calculate the ratios of its elements that are positive, negative, and zero. Print the decimal value of each fraction on a new line with 6 places after the decimal.\n",
    "plusMinus has the following parameter(s):\n",
    "int arr[n]: an array of integers"
   ]
  },
  {
   "cell_type": "code",
   "execution_count": null,
   "metadata": {},
   "outputs": [],
   "source": [
    "import math\n",
    "import os\n",
    "import random\n",
    "import re\n",
    "import sys\n",
    "\n",
    "#\n",
    "# Complete the 'plusMinus' function below.\n",
    "#\n",
    "# The function accepts INTEGER_ARRAY arr as parameter.\n",
    "#\n",
    "\n",
    "def plusMinus(arr):\n",
    "    p, n, z = 0, 0, 0\n",
    "    for i in arr:\n",
    "        if i == 0:\n",
    "            z += 1\n",
    "        elif i > 0:\n",
    "            p += 1\n",
    "        else:\n",
    "            n += 1\n",
    "        lenght = len(arr)     \n",
    "    print(round(p/lenght, 6))\n",
    "    print(round(n/lenght, 6))\n",
    "    print(round(z/lenght, 6))\n",
    "             \n",
    "\n",
    "if __name__ == '__main__':\n",
    "    n = int(input().strip())\n",
    "\n",
    "    arr = list(map(int, input().rstrip().split()))\n",
    "\n",
    "    print(plusMinus(arr))\n"
   ]
  }
 ],
 "metadata": {
  "language_info": {
   "name": "python"
  },
  "orig_nbformat": 4
 },
 "nbformat": 4,
 "nbformat_minor": 2
}
