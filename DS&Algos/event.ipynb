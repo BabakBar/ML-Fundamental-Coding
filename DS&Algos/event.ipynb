{
 "cells": [
  {
   "cell_type": "markdown",
   "metadata": {},
   "source": [
    "Develop a python script called get_events.py that takes two parameters as arguments:\n",
    "A string for a <task name>\n",
    "An integer for <number of events>\n",
    "\n",
    "The script must retrieve the last <number of events> completed executions of a Windows Scheduled Task named <task name>, and print their execution timestamps.\n",
    "The timestamps must be python datetime objects\n",
    "\n",
    "The script will obtain this information from the local windows machine where it is running from\n",
    "Bonus points: zip the script and its dependencies so it can run on a machine that has python installed\n",
    "\n",
    "Example:\n",
    "\n",
    "Input:\n",
    "\n",
    "python get_events.py \"\\Microsoft\\Windows\\LanguageComponentsInstaller\\Installation\" 10\n",
    "\n",
    "Output:\n",
    "2022-02-10 18:03:09\n",
    "2022-02-10 17:28:37\n",
    "2022-02-10 17:26:23\n",
    "2022-02-10 17:26:17\n",
    "2022-02-10 17:16:18\n",
    "2022-02-10 16:56:07\n",
    "2022-02-10 16:53:03\n",
    "2022-02-10 16:43:43\n",
    "2022-02-10 16:26:25\n",
    "2022-02-10 16:17:13"
   ]
  },
  {
   "cell_type": "code",
   "execution_count": 1,
   "metadata": {},
   "outputs": [
    {
     "name": "stdout",
     "output_type": "stream",
     "text": [
      "Current date/time: 2022-03-11 15:12:19.909107\n"
     ]
    }
   ],
   "source": [
    "import datetime\n",
    "\n",
    "print ('Current date/time: {}'.format(datetime.datetime.now()))"
   ]
  }
 ],
 "metadata": {
  "interpreter": {
   "hash": "90d056296a45556521e929369b7ac4560abf6ad78fcd7dc94e39c36823bee644"
  },
  "kernelspec": {
   "display_name": "Python 3.8.8 ('base')",
   "language": "python",
   "name": "python3"
  },
  "language_info": {
   "codemirror_mode": {
    "name": "ipython",
    "version": 3
   },
   "file_extension": ".py",
   "mimetype": "text/x-python",
   "name": "python",
   "nbconvert_exporter": "python",
   "pygments_lexer": "ipython3",
   "version": "3.8.8"
  },
  "orig_nbformat": 4
 },
 "nbformat": 4,
 "nbformat_minor": 2
}
