{
 "cells": [
  {
   "cell_type": "markdown",
   "metadata": {},
   "source": [
    "Remember to use == instead of = when making comparisons. If you write n == 2 you are asking about the value of n. When you write n = 2 you are changing the value of n."
   ]
  },
  {
   "cell_type": "code",
   "execution_count": null,
   "metadata": {},
   "outputs": [],
   "source": [
    "True or True and False"
   ]
  },
  {
   "cell_type": "markdown",
   "metadata": {},
   "source": [
    "For example, and is evaluated before or. That's why the first expression above is True. If we evaluated it from left to right, we would have calculated True or True first (which is True), and then taken the and of that result with False, giving a final value of False.\n",
    "\n",
    "Strings, Lists"
   ]
  },
  {
   "cell_type": "code",
   "execution_count": null,
   "metadata": {},
   "outputs": [],
   "source": [
    "# List\n",
    "a=[1,2,3]\n",
    "b=a.append(4)\n",
    "print(a)\n",
    "print(b)\n",
    "\n",
    "# The append() method appends an element to the end of the list."
   ]
  },
  {
   "cell_type": "code",
   "execution_count": null,
   "metadata": {},
   "outputs": [],
   "source": [
    "# List\n",
    "\n",
    "def f(values):\n",
    "    tmp = values\n",
    "    tmp[0] = 4\n",
    "    return tmp\n",
    "\n",
    "v = [1,2,3]\n",
    "x = f(v)\n",
    "print(v+x)"
   ]
  },
  {
   "cell_type": "markdown",
   "metadata": {},
   "source": [
    "# Loops - range()\n",
    "range() is a function that returns a sequence of numbers. It turns out to be very useful for writing loops.\n",
    "while loops, which iterates until some condition is met:\n",
    "The argument of the while loop is evaluated as a boolean statement, and the loop is executed until the statement evaluates to False.\n"
   ]
  },
  {
   "cell_type": "code",
   "execution_count": 1,
   "metadata": {},
   "outputs": [
    {
     "name": "stdout",
     "output_type": "stream",
     "text": [
      "a\n",
      "a\n",
      "a\n"
     ]
    }
   ],
   "source": [
    "# for loop\n",
    "\n",
    "x = 'abc'\n",
    "for i in range(len(x)):\n",
    "    x = 'a'\n",
    "    print(x)"
   ]
  },
  {
   "cell_type": "code",
   "execution_count": 2,
   "metadata": {},
   "outputs": [
    {
     "name": "stdout",
     "output_type": "stream",
     "text": [
      "0\n",
      "1\n",
      "2\n",
      "0\n"
     ]
    }
   ],
   "source": [
    "# while loop\n",
    "\n",
    "i = 0 \n",
    "while i < 3:\n",
    "    print(i)\n",
    "    i += 1\n",
    "else:\n",
    "    print(0)"
   ]
  },
  {
   "cell_type": "code",
   "execution_count": null,
   "metadata": {},
   "outputs": [],
   "source": [
    "# while loop 2\n",
    "\n",
    "x = \"abcdef\"\n",
    "i = \"i\"\n",
    "while i in x:\n",
    "    print(i, end = \" \")"
   ]
  },
  {
   "cell_type": "code",
   "execution_count": 3,
   "metadata": {},
   "outputs": [
    {
     "name": "stdout",
     "output_type": "stream",
     "text": [
      "0 1 2 3 4 5 6 7 8 9 "
     ]
    }
   ],
   "source": [
    "i = 0\n",
    "while i < 10:\n",
    "    print(i, end=' ')\n",
    "    i += 1 # increase the value of i by 1"
   ]
  },
  {
   "cell_type": "markdown",
   "metadata": {},
   "source": [
    "Mutable & inmutable objects in python\n",
    "Mutable Definition\n",
    "Mutable is when something is changeable or has the ability to change. In Python, ‘mutable’ is the ability of objects to change their values. These are often the objects that store a collection of data.\n",
    "Objects of built-in type that are mutable are:\n",
    "\n",
    "Lists [\"apple\", \"banana\", \"cherry\"] , is ordered, changeable (with .append), and allows duplicate members.\n",
    "\n",
    "Sets {\"apple\", \"banana\", \"cherry\"}.\n",
    "\n",
    "Dictionaries {\"name\": \"apple\", \"color\": \"green\"}.\n",
    "\n",
    "\n",
    "Immutable Definition\n",
    "Immutable is the when no change is possible over time. In Python, if the value of an object cannot be changed over time, then it is known as immutable. Once created, the value of these objects is permanent.\n",
    "Objects of built-in type that are immutable are:\n",
    "\n",
    "Numbers (Integer, Rational, Float, Decimal, Complex & Booleans)\n",
    "Strings\n",
    "Tuples (\"apple\", \"banana\", \"cherry\") , does not allow duplicate members\n",
    "Frozen Sets"
   ]
  },
  {
   "cell_type": "markdown",
   "metadata": {},
   "source": [
    "strip() : can be used to remove any whitespace from both the beginning and the end of a string\n",
    "upper() :  can be used to return a string in upper case letters\n",
    "\n",
    "List methods:\n",
    "list.append modifies a list by adding an item to the end\n",
    "list.pop removes and returns the last element of a list\n",
    "Searching lists\n",
    "We can get index using the list.index method.\n",
    "Tuples\n",
    "they differ from lists in two ways:\n",
    "1: The syntax for creating them uses parentheses instead of square brackets\n",
    "2: They cannot be modified (they are immutable).\n",
    "Tuples are often used for functions that have multiple return values."
   ]
  },
  {
   "cell_type": "markdown",
   "metadata": {},
   "source": [
    "handle large datasets in python: 1. Chunking your data\n",
    "If you do not need all the data at the same time, you can load your data in pieces called chunks. A chunk is a part of our dataset. We can use read_csv() and pass a parameter chunksize. Chunk size depends on how much RAM you have.\n",
    "2. Dropping columns\n",
    "Handling Large Datasets with Dask\n",
    "Dask is a parallel computing library, which scales NumPy, pandas, and scikit module\n",
    "\n",
    "Handle imbalanced data: random oversampling and undersampling"
   ]
  },
  {
   "cell_type": "markdown",
   "metadata": {},
   "source": [
    "List comprehensions\n",
    "(If you're familiar with SQL, you might think of this as being like a \"WHERE\" clause with if)\n",
    "List comprehensions combined with functions like min, max, and sum can lead to impressive one-line solutions for problems that would otherwise require several lines of code.\n",
    "\n"
   ]
  },
  {
   "cell_type": "code",
   "execution_count": null,
   "metadata": {},
   "outputs": [],
   "source": [
    "# count negative numbers with list comprehensions\n",
    "def count_negatives(nums):\n",
    "    return len([num for num in nums if num < 0])\n",
    "\n",
    "count_negatives([1,2,-3,-3,-1,4])"
   ]
  },
  {
   "cell_type": "code",
   "execution_count": null,
   "metadata": {},
   "outputs": [],
   "source": [
    "def count_negative(nums):\n",
    "    # Python calculates something like True + True + False + True to be equal to 3.\n",
    "    return sum([num < 0 for num in nums])"
   ]
  },
  {
   "cell_type": "code",
   "execution_count": null,
   "metadata": {},
   "outputs": [],
   "source": [
    "squares = [n**2 for n in range(10)]\n",
    "squares"
   ]
  },
  {
   "cell_type": "markdown",
   "metadata": {},
   "source": [
    "Remember that return causes a function to exit immediately. We can only return False if we've looked at every element of the list (and confirmed that none of them are lucky). Though we can return early if the answer is True"
   ]
  },
  {
   "cell_type": "code",
   "execution_count": null,
   "metadata": {},
   "outputs": [],
   "source": [
    "def has_lucky_number(nums):\n",
    "    return any([num % 7 == 0 for num in nums])"
   ]
  },
  {
   "cell_type": "code",
   "execution_count": null,
   "metadata": {},
   "outputs": [],
   "source": [
    "# Compare a list with an integer\n",
    "\n",
    "def elementwise_greater_than(L, thresh):\n",
    "    res = []\n",
    "    for ele in L:\n",
    "        res.append(ele > thresh)\n",
    "    return res\n",
    "\n",
    "#And here's the list comprehension version:\n",
    "\n",
    "def elementwise_greater_than(L, thresh):\n",
    "    return [ele > thresh for ele in L]"
   ]
  },
  {
   "cell_type": "markdown",
   "metadata": {},
   "source": [
    "Regression: predict some unknown continous attribute about data\n",
    "Classification involve predicting some unknown categorical attribute\n",
    "clustring, grouping, segmentation\n",
    "\n",
    "Loss function is used to calculate (in code) the model’s distance from this goal, and it is updated iteratively during model training. is a model hyperparameter\n",
    "\n",
    "What makes hyperparameters different than model parameters? not updated during model training, and are set manually"
   ]
  },
  {
   "cell_type": "markdown",
   "metadata": {},
   "source": [
    "There are many different tools that can be used to evaluate a linear regression model. Here are a few examples:\n",
    "\n",
    "Mean absolute error (MAE): This is measured by taking the average of the absolute difference between the actual values and the predictions. Ideally, this difference is minimal.\n",
    "\n",
    "Root mean square error (RMSE): This is similar MAE, but takes a slightly modified approach so values with large error receive a higher penalty. RMSE takes the square root of the average squared difference between the prediction and the actual value.\n",
    "\n",
    "Coefficient of determination or R-squared (R^2): This measures how well-observed outcomes are actually predicted by the model, based on the proportion of total variation of outcomes."
   ]
  },
  {
   "cell_type": "markdown",
   "metadata": {},
   "source": [
    "Bag of words: A technique used to extract features from the text. It counts how many times a word appears in a document (corpus), and then transforms that information into a dataset.\n",
    "\n",
    "Clustering. Unsupervised learning task that helps to determine if there are any naturally occurring groupings in the data.\n",
    "\n",
    "CNN: Convolutional Neural Networks (CNN) represent nested filters over grid-organized data. They are by far the most commonly used type of model when processing images.\n",
    "\n",
    "Discrete: A term taken from statistics referring to an outcome taking on only a finite number of values (such as days of the week).\n",
    "\n",
    "FFNN: The most straightforward way of structuring a neural network, the Feed Forward Neural Network (FFNN) structures neurons in a series of layers, with each neuron in a layer containing weights to all neurons in the previous layer.\n",
    "\n",
    "Hyperparameters are settings on the model which are not changed during training but can affect how quickly or how reliably the model trains, such as the number of clusters the model should identify.\n",
    "\n",
    "Hyperplane: A mathematical term for a surface that contains more than two planes.\n",
    "\n",
    "Impute is a common term referring to different statistical tools which can be used to calculate missing values from your dataset.\n",
    "\n",
    "Log loss is used to calculate how uncertain your model is about the predictions it is generating.\n",
    "\n",
    "Model inference is when the trained model is used to generate predictions.\n",
    "\n",
    "RNN/LSTM: Recurrent Neural Networks (RNN) and the related Long Short-Term Memory (LSTM) model types are structured to effectively represent for loops in traditional computing, collecting state while iterating over some object. They can be used for processing sequences of data.\n",
    "\n",
    "Silhouette coefficient: A score from -1 to 1 describing the clusters found during modeling. A score near zero indicates overlapping clusters, and scores less than zero indicate data points assigned to incorrect clusters. A\n",
    "\n",
    "Transformer: A more modern replacement for RNN/LSTMs, the transformer architecture enables training over larger datasets involving sequences of data.\n"
   ]
  },
  {
   "cell_type": "markdown",
   "metadata": {},
   "source": [
    "ML Questions:\n",
    "\n",
    "1- Difference between probability & likelihood? we have two entities involved: data & model\n",
    "training max likehood estimate & testing given some outcome give probalibility that such outcome occured\n",
    "\n",
    "2- What is Bayes theorem? how is it useful in the machine learning context? \n",
    "Bayes allows to determine posterior probabilities from priors with evidence is revise ecisting predictions given new evidence. in ML it is used as Naive Bayes Classifier and Naive Bayes Regressor which are both used to predict the probability of a given outcome given a set of features.\n",
    "\n",
    "3- What is the difference between generative & discriminative models? discriminative learn decision boundaries between classes logistic regression (multi-class classification) and decision trees, generative learn distributions of classes themselves like Naive Bayes Classifier. Discriminative ar enot so great with outliers but generative handles the outliers better.\n",
    "\n",
    "4- What cross validation technique would you use on a time series dataset? in a normal K-fold CV we split the data into K equal parts and train on K-1 parts and test on the remaining part. for time series we select a point as a test set and only include the point occure past of it.\n",
    "\n",
    "5- how is a decision tree pruned? pruning is the process of removing branches of a tree that do not contribute to the final result, make it simpler and avoid overfitting and also run faster. we can make a validation set and with determination nodes purity like a method cost effective Pruning.\n",
    "\n",
    "6- How would you evaluate a model? we can use accuracy, precision, recall, f1-score, confusion matrix, ROC curve, and more. technique like cross validation or k-fold."
   ]
  },
  {
   "cell_type": "markdown",
   "metadata": {},
   "source": []
  },
  {
   "cell_type": "code",
   "execution_count": null,
   "metadata": {},
   "outputs": [],
   "source": []
  }
 ],
 "metadata": {
  "interpreter": {
   "hash": "6172e98f1339f2d16ad9aa1aad22ee4129ddf2a45c3986e1f34b0e69d9795d22"
  },
  "kernelspec": {
   "display_name": "Python 3.8.9 ('.venv': venv)",
   "language": "python",
   "name": "python3"
  },
  "language_info": {
   "codemirror_mode": {
    "name": "ipython",
    "version": 3
   },
   "file_extension": ".py",
   "mimetype": "text/x-python",
   "name": "python",
   "nbconvert_exporter": "python",
   "pygments_lexer": "ipython3",
   "version": "3.8.9"
  },
  "orig_nbformat": 4
 },
 "nbformat": 4,
 "nbformat_minor": 2
}
