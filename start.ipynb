{
 "cells": [
  {
   "cell_type": "code",
   "execution_count": 14,
   "metadata": {},
   "outputs": [
    {
     "name": "stdout",
     "output_type": "stream",
     "text": [
      "True\n",
      "False\n",
      "True\n",
      "False\n"
     ]
    }
   ],
   "source": [
    "# Boolean conversion\n",
    "\n",
    "print(bool(1)) # all numbers are treated as true, except 0\n",
    "print(bool(0))\n",
    "print(bool(\"asf\")) # all strings are treated as true, except the empty string \"\"\n",
    "print(bool(\"\"))\n",
    "# Generally empty sequences (strings, lists, and other types we've yet to see like lists and tuples)\n",
    "# are \"falsey\" and the rest are \"truthy\""
   ]
  },
  {
   "cell_type": "code",
   "execution_count": 8,
   "metadata": {},
   "outputs": [
    {
     "name": "stdout",
     "output_type": "stream",
     "text": [
      "12 is positive\n",
      "-4 is negative\n"
     ]
    }
   ],
   "source": [
    "# check if a num is pos or neg\n",
    "\n",
    "def detect(x):\n",
    "    if x > 0:\n",
    "        print(x, \"is positive\")\n",
    "    elif x == 0:\n",
    "        print(x, \"is zero\")\n",
    "    else:\n",
    "        print(x, \"is negative\")\n",
    "\n",
    "detect(12)\n",
    "detect(-4)\n"
   ]
  },
  {
   "cell_type": "code",
   "execution_count": null,
   "metadata": {},
   "outputs": [],
   "source": [
    "def sign(x):\n",
    "    if x > 0:\n",
    "        return 1\n",
    "    elif x < 0:\n",
    "        return -1\n",
    "    else:\n",
    "        return 0"
   ]
  },
  {
   "cell_type": "code",
   "execution_count": 13,
   "metadata": {},
   "outputs": [
    {
     "name": "stdout",
     "output_type": "stream",
     "text": [
      "0.5\n",
      "0.333333\n",
      "0.166667\n"
     ]
    }
   ],
   "source": [
    "def plusMinus(arr):\n",
    "    p, n, z = 0, 0, 0\n",
    "    for i in arr:\n",
    "        if i == 0:\n",
    "            z += 1\n",
    "        elif i > 0:\n",
    "            p += 1\n",
    "        else:\n",
    "            n += 1\n",
    "        lenght = len(arr)     \n",
    "    print(round(p/lenght, 6))\n",
    "    print(round(n/lenght, 6))\n",
    "    print(round(z/lenght, 6))\n",
    "\n",
    "plusMinus([-4, 3, -9, 0, 4, 1])"
   ]
  },
  {
   "cell_type": "code",
   "execution_count": 3,
   "metadata": {},
   "outputs": [
    {
     "name": "stdout",
     "output_type": "stream",
     "text": [
      "Mercury Venus Earth Mars Jupiter Saturn Uranus Neptune "
     ]
    }
   ],
   "source": [
    "planets = ['Mercury', 'Venus', 'Earth', 'Mars', 'Jupiter', 'Saturn', 'Uranus', 'Neptune']\n",
    "for x in planets:\n",
    "    print(x, end=' ')"
   ]
  },
  {
   "cell_type": "markdown",
   "metadata": {},
   "source": [
    "Regression: predict some unknown continous attribute about data\n",
    "Classification involve predicting some unknown categorical attribute\n",
    "clustring, grouping, segmentation\n",
    "\n",
    "Loss function is used to calculate (in code) the model’s distance from this goal, and it is updated iteratively during model training. is a model hyperparameter\n",
    "\n",
    "What makes hyperparameters different than model parameters? not updated during model training, and are set manually"
   ]
  },
  {
   "cell_type": "markdown",
   "metadata": {},
   "source": [
    "There are many different tools that can be used to evaluate a linear regression model. Here are a few examples:\n",
    "\n",
    "Mean absolute error (MAE): This is measured by taking the average of the absolute difference between the actual values and the predictions. Ideally, this difference is minimal.\n",
    "\n",
    "Root mean square error (RMSE): This is similar MAE, but takes a slightly modified approach so values with large error receive a higher penalty. RMSE takes the square root of the average squared difference between the prediction and the actual value.\n",
    "\n",
    "Coefficient of determination or R-squared (R^2): This measures how well-observed outcomes are actually predicted by the model, based on the proportion of total variation of outcomes."
   ]
  },
  {
   "cell_type": "markdown",
   "metadata": {},
   "source": [
    "Bag of words: A technique used to extract features from the text. It counts how many times a word appears in a document (corpus), and then transforms that information into a dataset.\n",
    "\n",
    "Clustering. Unsupervised learning task that helps to determine if there are any naturally occurring groupings in the data.\n",
    "\n",
    "CNN: Convolutional Neural Networks (CNN) represent nested filters over grid-organized data. They are by far the most commonly used type of model when processing images.\n",
    "\n",
    "Discrete: A term taken from statistics referring to an outcome taking on only a finite number of values (such as days of the week).\n",
    "\n",
    "FFNN: The most straightforward way of structuring a neural network, the Feed Forward Neural Network (FFNN) structures neurons in a series of layers, with each neuron in a layer containing weights to all neurons in the previous layer.\n",
    "\n",
    "Hyperparameters are settings on the model which are not changed during training but can affect how quickly or how reliably the model trains, such as the number of clusters the model should identify.\n",
    "\n",
    "Hyperplane: A mathematical term for a surface that contains more than two planes.\n",
    "\n",
    "Impute is a common term referring to different statistical tools which can be used to calculate missing values from your dataset.\n",
    "\n",
    "Log loss is used to calculate how uncertain your model is about the predictions it is generating.\n",
    "\n",
    "Model inference is when the trained model is used to generate predictions.\n",
    "\n",
    "RNN/LSTM: Recurrent Neural Networks (RNN) and the related Long Short-Term Memory (LSTM) model types are structured to effectively represent for loops in traditional computing, collecting state while iterating over some object. They can be used for processing sequences of data.\n",
    "\n",
    "Silhouette coefficient: A score from -1 to 1 describing the clusters found during modeling. A score near zero indicates overlapping clusters, and scores less than zero indicate data points assigned to incorrect clusters. A\n",
    "\n",
    "Transformer: A more modern replacement for RNN/LSTMs, the transformer architecture enables training over larger datasets involving sequences of data.\n"
   ]
  },
  {
   "cell_type": "markdown",
   "metadata": {},
   "source": [
    "ML Questions:\n",
    "\n",
    "1- Difference between probability & likelihood? we have two entities involved: data & model\n",
    "training max likehood estimate & testing given some outcome give probalibility that such outcome occured\n",
    "\n",
    "2- What is Bayes theorem? how is it useful in the machine learning context? \n",
    "Bayes allows to determine posterior probabilities from priors with evidence is revise ecisting predictions given new evidence. in ML it is used as Naive Bayes Classifier and Naive Bayes Regressor which are both used to predict the probability of a given outcome given a set of features.\n",
    "\n",
    "3- What is the difference between generative & discriminative models? discriminative learn decision boundaries between classes logistic regression (multi-class classification) and decision trees, generative learn distributions of classes themselves like Naive Bayes Classifier. Discriminative ar enot so great with outliers but generative handles the outliers better.\n",
    "\n",
    "4- What cross validation technique would you use on a time series dataset? in a normal K-fold CV we split the data into K equal parts and train on K-1 parts and test on the remaining part. for time series we select a point as a test set and only include the point occure past of it.\n",
    "\n",
    "5- how is a decision tree pruned? pruning is the process of removing branches of a tree that do not contribute to the final result, make it simpler and avoid overfitting and also run faster. we can make a validation set and with determination nodes purity like a method cost effective Pruning.\n",
    "\n",
    "6- How would you evaluate a model? we can use accuracy, precision, recall, f1-score, confusion matrix, ROC curve, and more. technique like cross validation or k-fold."
   ]
  },
  {
   "cell_type": "markdown",
   "metadata": {},
   "source": [
    "SQL: A primary key is defined for each table, and a reference to this key is defined as a foreign key in any related table.\n",
    "Without diving into the mathematics of set theory, you can think of a set as \"a collection of definite, distinct objects considered as a whole.\" In terms applied to SQL Server databases, you can think of a set as a collection of distinct objects containing zero or more members of the same type. For example, the Customer table represents a set: specifically, the set of all customers. You will see that the results of a SELECT statement also form a set."
   ]
  }
 ],
 "metadata": {
  "interpreter": {
   "hash": "90d056296a45556521e929369b7ac4560abf6ad78fcd7dc94e39c36823bee644"
  },
  "kernelspec": {
   "display_name": "Python 3.8.8 ('base')",
   "language": "python",
   "name": "python3"
  },
  "language_info": {
   "codemirror_mode": {
    "name": "ipython",
    "version": 3
   },
   "file_extension": ".py",
   "mimetype": "text/x-python",
   "name": "python",
   "nbconvert_exporter": "python",
   "pygments_lexer": "ipython3",
   "version": "3.8.8"
  },
  "orig_nbformat": 4
 },
 "nbformat": 4,
 "nbformat_minor": 2
}
