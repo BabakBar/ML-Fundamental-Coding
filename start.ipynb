{
 "cells": [
  {
   "cell_type": "code",
   "execution_count": 1,
   "metadata": {},
   "outputs": [
    {
     "name": "stdout",
     "output_type": "stream",
     "text": [
      "Hello Interviews\n"
     ]
    }
   ],
   "source": [
    "print(\"Hello Interviews\")"
   ]
  },
  {
   "cell_type": "code",
   "execution_count": 14,
   "metadata": {},
   "outputs": [
    {
     "name": "stdout",
     "output_type": "stream",
     "text": [
      "True\n",
      "False\n",
      "True\n",
      "False\n"
     ]
    }
   ],
   "source": [
    "# Boolean conversion\n",
    "\n",
    "print(bool(1)) # all numbers are treated as true, except 0\n",
    "print(bool(0))\n",
    "print(bool(\"asf\")) # all strings are treated as true, except the empty string \"\"\n",
    "print(bool(\"\"))\n",
    "# Generally empty sequences (strings, lists, and other types we've yet to see like lists and tuples)\n",
    "# are \"falsey\" and the rest are \"truthy\""
   ]
  },
  {
   "cell_type": "code",
   "execution_count": 8,
   "metadata": {},
   "outputs": [
    {
     "name": "stdout",
     "output_type": "stream",
     "text": [
      "12 is positive\n",
      "-4 is negative\n"
     ]
    }
   ],
   "source": [
    "# check if a num is pos or neg\n",
    "\n",
    "def detect(x):\n",
    "    if x > 0:\n",
    "        print(x, \"is positive\")\n",
    "    elif x == 0:\n",
    "        print(x, \"is zero\")\n",
    "    else:\n",
    "        print(x, \"is negative\")\n",
    "\n",
    "detect(12)\n",
    "detect(-4)\n"
   ]
  },
  {
   "cell_type": "code",
   "execution_count": null,
   "metadata": {},
   "outputs": [],
   "source": [
    "def sign(x):\n",
    "    if x > 0:\n",
    "        return 1\n",
    "    elif x < 0:\n",
    "        return -1\n",
    "    else:\n",
    "        return 0"
   ]
  },
  {
   "cell_type": "code",
   "execution_count": 13,
   "metadata": {},
   "outputs": [
    {
     "name": "stdout",
     "output_type": "stream",
     "text": [
      "0.5\n",
      "0.333333\n",
      "0.166667\n"
     ]
    }
   ],
   "source": [
    "def plusMinus(arr):\n",
    "    p, n, z = 0, 0, 0\n",
    "    for i in arr:\n",
    "        if i == 0:\n",
    "            z += 1\n",
    "        elif i > 0:\n",
    "            p += 1\n",
    "        else:\n",
    "            n += 1\n",
    "        lenght = len(arr)     \n",
    "    print(round(p/lenght, 6))\n",
    "    print(round(n/lenght, 6))\n",
    "    print(round(z/lenght, 6))\n",
    "\n",
    "plusMinus([-4, 3, -9, 0, 4, 1])"
   ]
  }
 ],
 "metadata": {
  "interpreter": {
   "hash": "90d056296a45556521e929369b7ac4560abf6ad78fcd7dc94e39c36823bee644"
  },
  "kernelspec": {
   "display_name": "Python 3.8.8 ('base')",
   "language": "python",
   "name": "python3"
  },
  "language_info": {
   "codemirror_mode": {
    "name": "ipython",
    "version": 3
   },
   "file_extension": ".py",
   "mimetype": "text/x-python",
   "name": "python",
   "nbconvert_exporter": "python",
   "pygments_lexer": "ipython3",
   "version": "3.8.8"
  },
  "orig_nbformat": 4
 },
 "nbformat": 4,
 "nbformat_minor": 2
}
