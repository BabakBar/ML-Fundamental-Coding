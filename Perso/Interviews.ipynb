{
 "cells": [
  {
   "cell_type": "markdown",
   "metadata": {},
   "source": [
    "# Product\n",
    "## data management, stats, analytics\n",
    "### hypothesis testing, regression theory, central limit theorem, bayes theorem, conditional and joint probabilities and basic distributions (exponential, geometric, binomial). estimators (consistency, bias, efficiency)\n",
    "\n",
    "### 1- Company wants to update homepage to increas CTR (click through rate). Perfomed 50 hypothesis tests of 50 new features and set max type I erroe rate to 5%. Found there are 4 features with P-value < 0.05. However found immediate decrese in CTR when new features were applied. What might be most likely reason for the decrease?\n",
    "\n",
    "Answer: While shipping a feature to users, it is imperative to validate assumptions about design and features in order to understand their impact in the real world.\n",
    "types: A/B Testing - Multivariate Testing - Before/After Testing - Time-based On/Off Testing\n",
    "After the right test is chosen and designed, and the success criteria and metrics are identified, the results must be analyzed. \n",
    "Null hypothesis: The null hypothesis is typically denoted as . The null hypothesis states the \"status quo\". This hypothesis is assumed to be true until there is evidence to suggest otherwise.\n",
    "Alternative hypothesis: The alternative hypothesis is typically denoted as  or . This is the statement that one wants to conclude. It is also called the research hypothesis.\n",
    "This uncertainty can be of 2 types: Type I error (falsely rejecting a null hypothesis) and type II error (falsely accepting a null hypothesis).\n",
    "stats in here: \n",
    "1- Sampling (not have a bias): In order to ensure no bias in sampling, one can observe the mean and variance for the success metric before the change is introduced.\n",
    "2- Significance and P-Value: In statistics, the p-value depicts the probability that, assuming the null hypothesis is correct, you might still observe results that are at least as extreme as the results of your hypothesis test. The smaller the p-value, the more likely the alternative hypothesis is correct, and the greater the significance of your results.\n",
    "#### Testing multiple hypotheses increases the risk of drawing a false-positive conclusion or the Type I error rate (a Type I error is another name for incorrectly rejecting the null hypothesis).\n",
    "What is the Multiple Testing Problem?\n",
    "If you run a hypothesis test, there’s a small chance (usually about 5%) that you’ll get a bogus significant result. but if 20 different researchers evaluate 20 different aspects of a policy intervention, even if the intervention did nothing, we should expect one statistically significant result and 19 statistically insignificant results. When you run multiple tests, the p-values have to be adjusted for how many hypothesis tests you are running. "
   ]
  },
  {
   "cell_type": "markdown",
   "metadata": {},
   "source": [
    "#### What is composite key and example?\n",
    "A primary key having two or more attributes is called composite key. It is a combination of two or more columns. An example can be − Here our composite key is OrderID and ProductID − {OrderID, ProductID}\n",
    "#### A “One to one” relationship between two tables means that a row in one table can only relate to one row in the table on the other side of their relationship and vice versa. For example, there might be a one-to-one relationship between employees and the cars they drive."
   ]
  },
  {
   "cell_type": "code",
   "execution_count": null,
   "metadata": {
    "vscode": {
     "languageId": "plaintext"
    }
   },
   "outputs": [],
   "source": []
  }
 ],
 "metadata": {
  "interpreter": {
   "hash": "a65a50ee5f5be1d8cb94c5560f11e654547cdf5d309dcec82a48c09ec0f67497"
  },
  "kernelspec": {
   "display_name": "Python 3.8.8 ('.venv': venv)",
   "language": "python",
   "name": "python3"
  },
  "language_info": {
   "codemirror_mode": {
    "name": "ipython",
    "version": 3
   },
   "file_extension": ".py",
   "mimetype": "text/x-python",
   "name": "python",
   "nbconvert_exporter": "python",
   "pygments_lexer": "ipython3",
   "version": "3.8.8"
  },
  "orig_nbformat": 4
 },
 "nbformat": 4,
 "nbformat_minor": 2
}
